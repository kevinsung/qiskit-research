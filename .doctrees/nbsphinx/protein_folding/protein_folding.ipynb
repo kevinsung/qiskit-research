{
 "cells": [
  {
   "cell_type": "markdown",
   "id": "4d2ea6f4",
   "metadata": {},
   "source": [
    "# Protein Folding"
   ]
  },
  {
   "cell_type": "markdown",
   "id": "aa2fe29c",
   "metadata": {},
   "source": [
    "### Introduction"
   ]
  },
  {
   "cell_type": "markdown",
   "id": "ffa82037",
   "metadata": {},
   "source": [
    "The structure and function of many natural and human-engineered\n",
    "proteins is still only poorly understood. As a result, our understanding of\n",
    "processes connected with protein folding, such as those encountered in\n",
    "Alzheimer’s disease, vaccine development, and crop improvement\n",
    "research, has remained limited.\n",
    "\n",
    "Unfolded polypeptides have a very large number of degrees of freedom\n",
    "and thus an enormous number of potential conformations. For example, a\n",
    "chain with $100$ aminoacids has on the order of $10^{47}$ conformations. In\n",
    "reality, however, many proteins fold to their native structure within\n",
    "seconds. This is known as Levinthal’s paradox [1].\n",
    "\n",
    "The exponential growth of potential conformations with chain length\n",
    "makes the problem intractable for classical computers. In the quantum\n",
    "framework, our resource-efficient algorithm scales linearly with\n",
    "the number of aminoacids N."
   ]
  },
  {
   "cell_type": "markdown",
   "id": "58f24401",
   "metadata": {},
   "source": [
    "The goal of this work is to determine the minimum energy conformation of a protein. Starting from a random configuration, the protein's structure is optimized to lower the energy. This can be achieved by encoding the protein folding problem into a qubit operator and ensuring that all physical constraints are satisfied. "
   ]
  },
  {
   "cell_type": "markdown",
   "id": "76928cec",
   "metadata": {},
   "source": [
    "For the problem encoding we use: \n",
    "\n",
    "- Configuration qubits: qubits that are used to describe the configurations and the relative position of the different beads\n",
    "\n",
    "- Interaction qubits: qubits that encode interactions between the different aminoacids\n",
    "\n",
    "For our case we use a tetrahedral lattice (diamond shape lattice) where we encode the movement through the configuration qubits (see image below). \n",
    "\n",
    "<img src=\"aux_files/lattice_protein.png\" width=\"300\">"
   ]
  },
  {
   "cell_type": "markdown",
   "id": "50dc1324",
   "metadata": {},
   "source": [
    "The Hamiltonian of the system for a set of qubits $\\mathbf{q}=\\{\\mathbf{q}_{cf}, \\mathbf{q}_{in}\\}$ is \n",
    "\n",
    "$$H(\\mathbf{q}) = H_{gc}(\\mathbf{q}_{cf}) + H_{ch}(\\mathbf{q}_{cf}) + H_{in}(\\mathbf{q}_{cf}, \\mathbf{q}_{in}) $$\n",
    "\n",
    "where \n",
    "\n",
    "- $H_{gc}$ is the geometrical constraint term (governing the growth of the primary sequence of aminoacids without bifurcations)\n",
    "\n",
    "- $H_{ch}$ is the chirality constraint (enforcing the right stereochemistry for the system)\n",
    "\n",
    "- $H_{in}$ is the interaction energy terms of the system. In our case we consider only nearest neighbor interactions. "
   ]
  },
  {
   "cell_type": "markdown",
   "id": "0d7f4dbb",
   "metadata": {},
   "source": [
    "Further details about the used model and the encoding of the problem can be found in [2]."
   ]
  },
  {
   "cell_type": "code",
   "execution_count": 1,
   "id": "4a022975",
   "metadata": {
    "execution": {
     "iopub.execute_input": "2022-08-25T20:18:54.420913Z",
     "iopub.status.busy": "2022-08-25T20:18:54.420242Z",
     "iopub.status.idle": "2022-08-25T20:18:55.183379Z",
     "shell.execute_reply": "2022-08-25T20:18:55.182609Z"
    },
    "pycharm": {
     "is_executing": true
    }
   },
   "outputs": [],
   "source": [
    "from qiskit_research.protein_folding.interactions.random_interaction import (\n",
    "    RandomInteraction,\n",
    ")\n",
    "from qiskit_research.protein_folding.interactions.miyazawa_jernigan_interaction import (\n",
    "    MiyazawaJerniganInteraction,\n",
    ")\n",
    "from qiskit_research.protein_folding.peptide.peptide import Peptide\n",
    "from qiskit_research.protein_folding.protein_folding_problem import (\n",
    "    ProteinFoldingProblem,\n",
    ")\n",
    "\n",
    "from qiskit_research.protein_folding.penalty_parameters import PenaltyParameters\n",
    "\n",
    "from qiskit.utils import algorithm_globals, QuantumInstance\n",
    "\n",
    "algorithm_globals.random_seed = 23"
   ]
  },
  {
   "cell_type": "markdown",
   "id": "51e540f5",
   "metadata": {},
   "source": [
    "### Protein Main Chain"
   ]
  },
  {
   "cell_type": "markdown",
   "id": "15a69286",
   "metadata": {},
   "source": [
    "The Protein consists of a main chain that is a linear chain of aminoacids. For the naming of different residues we use the one-letter code as defined in Ref. [3]. Further details about the naming and the type of aminoacids can also be found in [4].\n",
    "\n",
    "For this particular case we demonstrate the generation of the qubit operator in a neuropeptide with the main chain consisting of 7 aminoacids with letter codes APRLRFY (see also [2])."
   ]
  },
  {
   "cell_type": "code",
   "execution_count": 2,
   "id": "b78d077a",
   "metadata": {
    "execution": {
     "iopub.execute_input": "2022-08-25T20:18:55.188012Z",
     "iopub.status.busy": "2022-08-25T20:18:55.187637Z",
     "iopub.status.idle": "2022-08-25T20:18:55.192206Z",
     "shell.execute_reply": "2022-08-25T20:18:55.191586Z"
    }
   },
   "outputs": [],
   "source": [
    "main_chain = \"APRLRFY\""
   ]
  },
  {
   "cell_type": "markdown",
   "id": "2b28a00e",
   "metadata": {},
   "source": [
    "### Side Chains"
   ]
  },
  {
   "cell_type": "markdown",
   "id": "b99c81a8",
   "metadata": {},
   "source": [
    "Beyond the main chain of the protein there may be aminoacids attached to the residues of the main chain. Our model allows for side chains of the maximum length of one. Elongated side chains would require the introduction of additional penalty terms which are still under development. In this example we do not consider any side chains to keep the real structure of the neuropeptide. "
   ]
  },
  {
   "cell_type": "code",
   "execution_count": 3,
   "id": "f0cea914",
   "metadata": {
    "execution": {
     "iopub.execute_input": "2022-08-25T20:18:55.195537Z",
     "iopub.status.busy": "2022-08-25T20:18:55.195266Z",
     "iopub.status.idle": "2022-08-25T20:18:55.198375Z",
     "shell.execute_reply": "2022-08-25T20:18:55.197728Z"
    }
   },
   "outputs": [],
   "source": [
    "side_chains = [\"\"] * 7"
   ]
  },
  {
   "cell_type": "markdown",
   "id": "203e288b",
   "metadata": {},
   "source": [
    "### Interaction between Aminoacids"
   ]
  },
  {
   "cell_type": "markdown",
   "id": "72ff748d",
   "metadata": {},
   "source": [
    "For the description of inter-residue contacts for proteins we use knowledge-based (statistical) potentials derived using quasi-chemical approximation. The potentials used here are introduced by Miyazawa, S. and Jernigan, R. L. in [5]. \n",
    "\n",
    "Beyond this model we also allow for random contact maps (interactions) that provide a random interaction map. One can also introduce a custom interaction map that enhances certain configurations of the protein (e.g. alpha helix, beta sheet etc). "
   ]
  },
  {
   "cell_type": "code",
   "execution_count": 4,
   "id": "cca5df13",
   "metadata": {
    "execution": {
     "iopub.execute_input": "2022-08-25T20:18:55.201717Z",
     "iopub.status.busy": "2022-08-25T20:18:55.201494Z",
     "iopub.status.idle": "2022-08-25T20:18:55.204519Z",
     "shell.execute_reply": "2022-08-25T20:18:55.203875Z"
    }
   },
   "outputs": [],
   "source": [
    "random_interaction = RandomInteraction()\n",
    "mj_interaction = MiyazawaJerniganInteraction()"
   ]
  },
  {
   "cell_type": "markdown",
   "id": "bb5c3ec8",
   "metadata": {},
   "source": [
    "### Physical Constraints"
   ]
  },
  {
   "cell_type": "markdown",
   "id": "5adb4c73",
   "metadata": {},
   "source": [
    "To ensure that all physical constraints are respected we introduce penalty functions. The different penalty terms used are: \n",
    "\n",
    "- penalty_chiral: A penalty parameter used to impose the right chirality.\n",
    "\n",
    "- penalty_back: A penalty parameter used to penalize turns along the same axis. This term is used to eliminate sequences where the same axis is chosen twice in a row. In this way we do not allow for a chain to fold back into itself.\n",
    "\n",
    "- penalty_1: A penalty parameter used to penalize local overlap between beads within a nearest neighbor contact."
   ]
  },
  {
   "cell_type": "code",
   "execution_count": 5,
   "id": "d96678c3",
   "metadata": {
    "execution": {
     "iopub.execute_input": "2022-08-25T20:18:55.207629Z",
     "iopub.status.busy": "2022-08-25T20:18:55.207377Z",
     "iopub.status.idle": "2022-08-25T20:18:55.210602Z",
     "shell.execute_reply": "2022-08-25T20:18:55.209974Z"
    }
   },
   "outputs": [],
   "source": [
    "penalty_back = 10\n",
    "penalty_chiral = 10\n",
    "penalty_1 = 10\n",
    "\n",
    "penalty_terms = PenaltyParameters(penalty_chiral, penalty_back, penalty_1)"
   ]
  },
  {
   "cell_type": "markdown",
   "id": "29807064",
   "metadata": {},
   "source": [
    "### Peptide Definition\n"
   ]
  },
  {
   "cell_type": "markdown",
   "id": "3eafb4dd",
   "metadata": {},
   "source": [
    "Based on the main chain and possible side chains we define the peptide object that includes all the structural information of the modeled system."
   ]
  },
  {
   "cell_type": "code",
   "execution_count": 6,
   "id": "94b24aec",
   "metadata": {
    "execution": {
     "iopub.execute_input": "2022-08-25T20:18:55.213638Z",
     "iopub.status.busy": "2022-08-25T20:18:55.213421Z",
     "iopub.status.idle": "2022-08-25T20:18:55.246715Z",
     "shell.execute_reply": "2022-08-25T20:18:55.246100Z"
    }
   },
   "outputs": [],
   "source": [
    "peptide = Peptide(main_chain, side_chains)"
   ]
  },
  {
   "cell_type": "markdown",
   "id": "48deb63f",
   "metadata": {},
   "source": [
    "### Protein Folding Problem "
   ]
  },
  {
   "cell_type": "markdown",
   "id": "729f35c0",
   "metadata": {},
   "source": [
    "Based on the defined peptide, the interaction (contact map) and the penalty terms we defined for our model we define the protein folding problem that returns qubit operators.\n"
   ]
  },
  {
   "cell_type": "code",
   "execution_count": 7,
   "id": "8d0408ed",
   "metadata": {
    "execution": {
     "iopub.execute_input": "2022-08-25T20:18:55.250147Z",
     "iopub.status.busy": "2022-08-25T20:18:55.249923Z",
     "iopub.status.idle": "2022-08-25T20:18:55.829983Z",
     "shell.execute_reply": "2022-08-25T20:18:55.829245Z"
    }
   },
   "outputs": [],
   "source": [
    "protein_folding_problem = ProteinFoldingProblem(peptide, mj_interaction, penalty_terms)\n",
    "qubit_op = protein_folding_problem.qubit_op()"
   ]
  },
  {
   "cell_type": "code",
   "execution_count": 8,
   "id": "29860ed3",
   "metadata": {
    "execution": {
     "iopub.execute_input": "2022-08-25T20:18:55.834150Z",
     "iopub.status.busy": "2022-08-25T20:18:55.833864Z",
     "iopub.status.idle": "2022-08-25T20:18:55.838666Z",
     "shell.execute_reply": "2022-08-25T20:18:55.837978Z"
    },
    "scrolled": true
   },
   "outputs": [
    {
     "name": "stdout",
     "output_type": "stream",
     "text": [
      "1613.5895000000003 * IIIIIIIII\n",
      "+ 487.5 * IIIIIIZII\n",
      "- 192.5 * IIIIIIIZZ\n",
      "+ 192.5 * IIIIIIZZZ\n",
      "- 195.0 * IIIIZIZII\n",
      "- 195.0 * IIIIIZIZI\n",
      "- 195.0 * IIIIZZZZI\n",
      "- 95.0 * IIZIZIIII\n",
      "- 95.0 * IIIZIZIII\n",
      "- 95.0 * IIZZZZIII\n",
      "+ 295.0 * IIIIIIZZI\n",
      "- 497.5 * IIIIZIIII\n",
      "- 300.0 * IIIIZZIII\n",
      "+ 195.0 * IIIIIIIIZ\n",
      "+ 197.5 * IIIIIZIIZ\n",
      "- 197.5 * IIIIZZIIZ\n",
      "- 904.2875 * IZIIIIIII\n",
      "- 295.0 * IZIIIIZII\n",
      "- 197.5 * IZIIIIZZI\n",
      "+ 302.5 * IZIIZIIII\n",
      "+ 202.5 * IZIIZZIII\n",
      "+ 100.0 * IZIIZIZII\n",
      "+ 100.0 * IZIIIZIZI\n",
      "+ 100.0 * IZIIZZZZI\n",
      "- 200.0 * IZIIIIIIZ\n",
      "+ 97.5 * IZIIIIIZZ\n",
      "- 97.5 * IZIIIIZZZ\n",
      "- 100.0 * IZIIIZIIZ\n",
      "+ 100.0 * IZIIZZIIZ\n",
      "+ 100.0 * IIIIIIIZI\n",
      "- 100.0 * IIIIIZIII\n",
      "+ 2.5 * IZIIIIIZI\n",
      "- 2.5 * IZIIIZIII\n",
      "+ 192.5 * IIZIIIIII\n",
      "+ 95.0 * IIZZIIIII\n",
      "+ 97.5 * IIZIIIZII\n",
      "+ 97.5 * IIIZIIIZI\n",
      "+ 97.5 * IIZZIIZZI\n",
      "- 97.5 * IIIZIIIIZ\n",
      "+ 97.5 * IIZZIIIIZ\n",
      "+ 7.5 * IZZIIIIII\n",
      "+ 5.0 * IZZZIIIII\n",
      "+ 2.5 * IZZIIIZII\n",
      "+ 2.5 * IZIZIIIZI\n",
      "+ 2.5 * IZZZIIZZI\n",
      "- 2.5 * IZZIZIIII\n",
      "- 2.5 * IZIZIZIII\n",
      "- 2.5 * IZZZZZIII\n",
      "- 2.5 * IZIZIIIIZ\n",
      "+ 2.5 * IZZZIIIIZ\n",
      "+ 105.0 * IIIZIIIII\n",
      "- 701.802 * ZIIIIIIII\n",
      "- 195.0 * ZIIIIIZII\n",
      "- 102.5 * ZIIIIIIZI\n",
      "- 97.5 * ZIIIIIZZI\n",
      "+ 195.0 * ZIIIZIIII\n",
      "+ 102.5 * ZIIIIZIII\n",
      "+ 97.5 * ZIIIZZIII\n",
      "- 200.0 * ZIZIIIIII\n",
      "- 105.0 * ZIIZIIIII\n",
      "- 100.0 * ZIZZIIIII\n",
      "+ 97.5 * ZIIIZIZII\n",
      "- 100.0 * ZIZIIIZII\n",
      "+ 97.5 * ZIIIIZIZI\n",
      "- 100.0 * ZIIZIIIZI\n",
      "+ 97.5 * ZIIIZZZZI\n",
      "- 100.0 * ZIZZIIZZI\n",
      "+ 100.0 * ZIZIZIIII\n",
      "+ 100.0 * ZIIZIZIII\n",
      "+ 100.0 * ZIZZZZIII\n",
      "+ 97.5 * ZIIIIIIZZ\n",
      "- 97.5 * ZIIIIIZZZ\n",
      "- 97.5 * ZIIIIZIIZ\n",
      "+ 97.5 * ZIIIZZIIZ\n",
      "+ 100.0 * ZIIZIIIIZ\n",
      "- 100.0 * ZIZZIIIIZ\n",
      "+ 5.0 * ZIIIIIIIZ\n"
     ]
    }
   ],
   "source": [
    "print(qubit_op)"
   ]
  },
  {
   "cell_type": "markdown",
   "id": "441ccc74",
   "metadata": {},
   "source": [
    "### Using VQE with CVaR expectation value for the solution of the problem"
   ]
  },
  {
   "cell_type": "markdown",
   "id": "e99e05de",
   "metadata": {},
   "source": [
    "The problem that we are tackling has now implemented all the physical constraints and has a diagonal Hamiltonian. For the particular case we are targeting the single bitstring that gives us the minimum energy (corresponding to the folded structure of the protein). Thus, we can use the Variational Quantum Eigensolver with Conditional Value at Risk (CVaR) expectation values for the solution of the problem and for finding the minimum configuration energy [6] . We follow the same approach as in Ref. [2] but here we use COBYLA for the classical optimization part. One can also use the standard VQE or QAOA algorithm for the solution of the problem, though as discussed in Ref. [2] CVaR is more suitable. "
   ]
  },
  {
   "cell_type": "code",
   "execution_count": 9,
   "id": "5eb95499",
   "metadata": {
    "execution": {
     "iopub.execute_input": "2022-08-25T20:18:55.857745Z",
     "iopub.status.busy": "2022-08-25T20:18:55.857435Z",
     "iopub.status.idle": "2022-08-25T20:19:26.788702Z",
     "shell.execute_reply": "2022-08-25T20:19:26.788087Z"
    },
    "scrolled": true
   },
   "outputs": [
    {
     "name": "stdout",
     "output_type": "stream",
     "text": [
      "{   'aux_operator_eigenvalues': None,\n",
      "    'cost_function_evals': 50,\n",
      "    'eigenstate': {   '000000000': 0.015625,\n",
      "                      '000000001': 0.046875,\n",
      "                      '000000010': 0.03314563036811941,\n",
      "                      '000000011': 0.06346905003621844,\n",
      "                      '000000101': 0.04941058844013093,\n",
      "                      '000000110': 0.015625,\n",
      "                      '000000111': 0.02209708691207961,\n",
      "                      '000001001': 0.029231698334171417,\n",
      "                      '000001010': 0.019136638615493577,\n",
      "                      '000001011': 0.04555431167847891,\n",
      "                      '000001101': 0.029231698334171417,\n",
      "                      '000010001': 0.015625,\n",
      "                      '000010011': 0.027063293868263706,\n",
      "                      '000010101': 0.02209708691207961,\n",
      "                      '000010111': 0.011048543456039806,\n",
      "                      '000011000': 0.02209708691207961,\n",
      "                      '000011001': 0.06051536478449089,\n",
      "                      '000011010': 0.03983608994994363,\n",
      "                      '000011011': 0.09631896879639025,\n",
      "                      '000011100': 0.011048543456039806,\n",
      "                      '000011101': 0.06810779599282303,\n",
      "                      '000011110': 0.02209708691207961,\n",
      "                      '000011111': 0.019136638615493577,\n",
      "                      '000100000': 0.015625,\n",
      "                      '000100001': 0.03125,\n",
      "                      '000100010': 0.019136638615493577,\n",
      "                      '000100011': 0.05063078670631141,\n",
      "                      '000100101': 0.03983608994994363,\n",
      "                      '000100110': 0.015625,\n",
      "                      '000100111': 0.015625,\n",
      "                      '000101001': 0.03314563036811941,\n",
      "                      '000101010': 0.011048543456039806,\n",
      "                      '000101011': 0.036643873123620545,\n",
      "                      '000101101': 0.019136638615493577,\n",
      "                      '000110000': 0.011048543456039806,\n",
      "                      '000110010': 0.011048543456039806,\n",
      "                      '000110011': 0.019136638615493577,\n",
      "                      '000110101': 0.029231698334171417,\n",
      "                      '000111000': 0.015625,\n",
      "                      '000111001': 0.04555431167847891,\n",
      "                      '000111010': 0.024705294220065465,\n",
      "                      '000111011': 0.09110862335695782,\n",
      "                      '000111101': 0.05412658773652741,\n",
      "                      '000111110': 0.015625,\n",
      "                      '000111111': 0.011048543456039806,\n",
      "                      '001000000': 0.024705294220065465,\n",
      "                      '001000001': 0.04941058844013093,\n",
      "                      '001000010': 0.036643873123620545,\n",
      "                      '001000011': 0.09820160226544168,\n",
      "                      '001000101': 0.061515686515717274,\n",
      "                      '001000110': 0.024705294220065465,\n",
      "                      '001000111': 0.02209708691207961,\n",
      "                      '001001001': 0.011048543456039806,\n",
      "                      '001001010': 0.011048543456039806,\n",
      "                      '001001011': 0.04133986423538423,\n",
      "                      '001001101': 0.019136638615493577,\n",
      "                      '001010001': 0.019136638615493577,\n",
      "                      '001010010': 0.019136638615493577,\n",
      "                      '001010011': 0.034938562148434216,\n",
      "                      '001010101': 0.034938562148434216,\n",
      "                      '001011001': 0.019136638615493577,\n",
      "                      '001011011': 0.034938562148434216,\n",
      "                      '001011101': 0.027063293868263706,\n",
      "                      '001100000': 0.04419417382415922,\n",
      "                      '001100001': 0.13799626353637262,\n",
      "                      '001100010': 0.10065702130254005,\n",
      "                      '001100011': 0.27085837223999554,\n",
      "                      '001100100': 0.019136638615493577,\n",
      "                      '001100101': 0.15428451295415233,\n",
      "                      '001100110': 0.05412658773652741,\n",
      "                      '001100111': 0.06442352540027595,\n",
      "                      '001101000': 0.015625,\n",
      "                      '001101001': 0.07574499777213015,\n",
      "                      '001101010': 0.03983608994994363,\n",
      "                      '001101011': 0.11267347735824966,\n",
      "                      '001101100': 0.015625,\n",
      "                      '001101101': 0.0855816496101822,\n",
      "                      '001101111': 0.015625,\n",
      "                      '001110001': 0.011048543456039806,\n",
      "                      '001110011': 0.029231698334171417,\n",
      "                      '001110101': 0.02209708691207961,\n",
      "                      '001111000': 0.038273277230987154,\n",
      "                      '001111001': 0.10825317547305482,\n",
      "                      '001111010': 0.05740991584648074,\n",
      "                      '001111011': 0.18087245160609727,\n",
      "                      '001111100': 0.015625,\n",
      "                      '001111101': 0.11744762795603834,\n",
      "                      '001111110': 0.024705294220065465,\n",
      "                      '001111111': 0.019136638615493577,\n",
      "                      '010001011': 0.011048543456039806,\n",
      "                      '010001101': 0.011048543456039806,\n",
      "                      '010010000': 0.011048543456039806,\n",
      "                      '010010001': 0.015625,\n",
      "                      '010010010': 0.02209708691207961,\n",
      "                      '010010011': 0.029231698334171417,\n",
      "                      '010010101': 0.011048543456039806,\n",
      "                      '010010111': 0.011048543456039806,\n",
      "                      '010011000': 0.011048543456039806,\n",
      "                      '010011001': 0.036643873123620545,\n",
      "                      '010011010': 0.03125,\n",
      "                      '010011011': 0.05298695299316616,\n",
      "                      '010011101': 0.038273277230987154,\n",
      "                      '010100000': 0.03314563036811941,\n",
      "                      '010100001': 0.07967217989988726,\n",
      "                      '010100010': 0.046875,\n",
      "                      '010100011': 0.12979099785809492,\n",
      "                      '010100100': 0.011048543456039806,\n",
      "                      '010100101': 0.07493486755176124,\n",
      "                      '010100110': 0.024705294220065465,\n",
      "                      '010100111': 0.036643873123620545,\n",
      "                      '010101001': 0.04133986423538423,\n",
      "                      '010101010': 0.024705294220065465,\n",
      "                      '010101011': 0.06536406457297465,\n",
      "                      '010101101': 0.04419417382415922,\n",
      "                      '010101110': 0.011048543456039806,\n",
      "                      '010110001': 0.015625,\n",
      "                      '010110011': 0.03125,\n",
      "                      '010110110': 0.011048543456039806,\n",
      "                      '010111000': 0.024705294220065465,\n",
      "                      '010111001': 0.07328774624724109,\n",
      "                      '010111010': 0.03983608994994363,\n",
      "                      '010111011': 0.10768788087570486,\n",
      "                      '010111101': 0.08193819126329309,\n",
      "                      '010111110': 0.011048543456039806,\n",
      "                      '010111111': 0.019136638615493577,\n",
      "                      '011000001': 0.03983608994994363,\n",
      "                      '011000011': 0.05524271728019903,\n",
      "                      '011000101': 0.036643873123620545,\n",
      "                      '011001001': 0.024705294220065465,\n",
      "                      '011001010': 0.011048543456039806,\n",
      "                      '011001011': 0.03125,\n",
      "                      '011001101': 0.019136638615493577,\n",
      "                      '011011001': 0.024705294220065465,\n",
      "                      '011011010': 0.011048543456039806,\n",
      "                      '011011011': 0.029231698334171417,\n",
      "                      '011011101': 0.015625,\n",
      "                      '011100001': 0.024705294220065465,\n",
      "                      '011100010': 0.019136638615493577,\n",
      "                      '011100011': 0.03983608994994363,\n",
      "                      '011100101': 0.034938562148434216,\n",
      "                      '011101011': 0.019136638615493577,\n",
      "                      '011101101': 0.02209708691207961,\n",
      "                      '011111011': 0.015625,\n",
      "                      '011111101': 0.011048543456039806,\n",
      "                      '100000000': 0.015625,\n",
      "                      '100000001': 0.04941058844013093,\n",
      "                      '100000010': 0.03314563036811941,\n",
      "                      '100000011': 0.08267972847076846,\n",
      "                      '100000101': 0.05524271728019903,\n",
      "                      '100000110': 0.011048543456039806,\n",
      "                      '100000111': 0.02209708691207961,\n",
      "                      '100001000': 0.015625,\n",
      "                      '100001001': 0.027063293868263706,\n",
      "                      '100001010': 0.019136638615493577,\n",
      "                      '100001011': 0.05182226234930312,\n",
      "                      '100001101': 0.036643873123620545,\n",
      "                      '100010000': 0.011048543456039806,\n",
      "                      '100010001': 0.024705294220065465,\n",
      "                      '100010011': 0.034938562148434216,\n",
      "                      '100010101': 0.024705294220065465,\n",
      "                      '100011000': 0.024705294220065465,\n",
      "                      '100011001': 0.071602745233685,\n",
      "                      '100011010': 0.048159484398195125,\n",
      "                      '100011011': 0.106548294507702,\n",
      "                      '100011101': 0.07890238233095373,\n",
      "                      '100011110': 0.024705294220065465,\n",
      "                      '100011111': 0.015625,\n",
      "                      '100100000': 0.015625,\n",
      "                      '100100001': 0.03314563036811941,\n",
      "                      '100100010': 0.02209708691207961,\n",
      "                      '100100011': 0.07328774624724109,\n",
      "                      '100100101': 0.048159484398195125,\n",
      "                      '100100110': 0.015625,\n",
      "                      '100100111': 0.011048543456039806,\n",
      "                      '100101001': 0.027063293868263706,\n",
      "                      '100101010': 0.015625,\n",
      "                      '100101011': 0.03125,\n",
      "                      '100101101': 0.036643873123620545,\n",
      "                      '100101110': 0.011048543456039806,\n",
      "                      '100110000': 0.011048543456039806,\n",
      "                      '100110001': 0.02209708691207961,\n",
      "                      '100110011': 0.03983608994994363,\n",
      "                      '100110101': 0.027063293868263706,\n",
      "                      '100110110': 0.011048543456039806,\n",
      "                      '100110111': 0.02209708691207961,\n",
      "                      '100111000': 0.029231698334171417,\n",
      "                      '100111001': 0.06346905003621844,\n",
      "                      '100111010': 0.04133986423538423,\n",
      "                      '100111011': 0.10881553341550093,\n",
      "                      '100111101': 0.0625,\n",
      "                      '100111110': 0.019136638615493577,\n",
      "                      '100111111': 0.011048543456039806,\n",
      "                      '101000000': 0.02209708691207961,\n",
      "                      '101000001': 0.06810779599282303,\n",
      "                      '101000010': 0.04133986423538423,\n",
      "                      '101000011': 0.12645635981436443,\n",
      "                      '101000101': 0.07733980419227864,\n",
      "                      '101000110': 0.015625,\n",
      "                      '101000111': 0.027063293868263706,\n",
      "                      '101001001': 0.029231698334171417,\n",
      "                      '101001010': 0.011048543456039806,\n",
      "                      '101001011': 0.03314563036811941,\n",
      "                      '101001101': 0.019136638615493577,\n",
      "                      '101010000': 0.011048543456039806,\n",
      "                      '101010001': 0.024705294220065465,\n",
      "                      '101010010': 0.02209708691207961,\n",
      "                      '101010011': 0.04941058844013093,\n",
      "                      '101010101': 0.015625,\n",
      "                      '101010111': 0.015625,\n",
      "                      '101011000': 0.015625,\n",
      "                      '101011001': 0.027063293868263706,\n",
      "                      '101011011': 0.03125,\n",
      "                      '101011101': 0.019136638615493577,\n",
      "                      '101100000': 0.06810779599282303,\n",
      "                      '101100001': 0.1690102160373745,\n",
      "                      '101100010': 0.129319885603491,\n",
      "                      '101100011': 0.3125,\n",
      "                      '101100100': 0.011048543456039806,\n",
      "                      '101100101': 0.16424840657522374,\n",
      "                      '101100110': 0.05740991584648074,\n",
      "                      '101100111': 0.06810779599282303,\n",
      "                      '101101000': 0.02209708691207961,\n",
      "                      '101101001': 0.10126157341262282,\n",
      "                      '101101010': 0.05298695299316616,\n",
      "                      '101101011': 0.13887803777055607,\n",
      "                      '101101100': 0.011048543456039806,\n",
      "                      '101101101': 0.10423175050098699,\n",
      "                      '101101110': 0.027063293868263706,\n",
      "                      '101101111': 0.019136638615493577,\n",
      "                      '101110000': 0.011048543456039806,\n",
      "                      '101110001': 0.011048543456039806,\n",
      "                      '101110011': 0.03125,\n",
      "                      '101110101': 0.011048543456039806,\n",
      "                      '101111000': 0.05298695299316616,\n",
      "                      '101111001': 0.13212136347881065,\n",
      "                      '101111010': 0.07245014449606019,\n",
      "                      '101111011': 0.21791133876533364,\n",
      "                      '101111100': 0.011048543456039806,\n",
      "                      '101111101': 0.15428451295415233,\n",
      "                      '101111110': 0.04133986423538423,\n",
      "                      '101111111': 0.03125,\n",
      "                      '110001011': 0.011048543456039806,\n",
      "                      '110010001': 0.02209708691207961,\n",
      "                      '110010010': 0.015625,\n",
      "                      '110010011': 0.038273277230987154,\n",
      "                      '110010101': 0.02209708691207961,\n",
      "                      '110010111': 0.011048543456039806,\n",
      "                      '110011000': 0.019136638615493577,\n",
      "                      '110011001': 0.04555431167847891,\n",
      "                      '110011010': 0.027063293868263706,\n",
      "                      '110011011': 0.06629126073623882,\n",
      "                      '110011101': 0.03983608994994363,\n",
      "                      '110011110': 0.015625,\n",
      "                      '110100000': 0.03314563036811941,\n",
      "                      '110100001': 0.08341467384399462,\n",
      "                      '110100010': 0.05412658773652741,\n",
      "                      '110100011': 0.15027643798180737,\n",
      "                      '110100101': 0.0943987966687076,\n",
      "                      '110100110': 0.027063293868263706,\n",
      "                      '110100111': 0.036643873123620545,\n",
      "                      '110101000': 0.015625,\n",
      "                      '110101001': 0.0427908248050911,\n",
      "                      '110101010': 0.024705294220065465,\n",
      "                      '110101011': 0.07733980419227864,\n",
      "                      '110101101': 0.0625,\n",
      "                      '110101110': 0.015625,\n",
      "                      '110110001': 0.02209708691207961,\n",
      "                      '110110010': 0.011048543456039806,\n",
      "                      '110110011': 0.03125,\n",
      "                      '110110101': 0.024705294220065465,\n",
      "                      '110111000': 0.02209708691207961,\n",
      "                      '110111001': 0.08769509500251425,\n",
      "                      '110111010': 0.04133986423538423,\n",
      "                      '110111011': 0.1316585902058806,\n",
      "                      '110111101': 0.09631896879639025,\n",
      "                      '110111110': 0.019136638615493577,\n",
      "                      '110111111': 0.011048543456039806,\n",
      "                      '111000001': 0.04555431167847891,\n",
      "                      '111000010': 0.02209708691207961,\n",
      "                      '111000011': 0.071602745233685,\n",
      "                      '111000100': 0.011048543456039806,\n",
      "                      '111000101': 0.03983608994994363,\n",
      "                      '111000110': 0.011048543456039806,\n",
      "                      '111000111': 0.019136638615493577,\n",
      "                      '111001001': 0.019136638615493577,\n",
      "                      '111001011': 0.03125,\n",
      "                      '111001101': 0.024705294220065465,\n",
      "                      '111011001': 0.019136638615493577,\n",
      "                      '111011010': 0.02209708691207961,\n",
      "                      '111011011': 0.03314563036811941,\n",
      "                      '111011101': 0.019136638615493577,\n",
      "                      '111100001': 0.03125,\n",
      "                      '111100010': 0.029231698334171417,\n",
      "                      '111100011': 0.061515686515717274,\n",
      "                      '111100101': 0.03125,\n",
      "                      '111100110': 0.011048543456039806,\n",
      "                      '111100111': 0.011048543456039806,\n",
      "                      '111101001': 0.015625,\n",
      "                      '111101011': 0.019136638615493577,\n",
      "                      '111101101': 0.015625,\n",
      "                      '111111001': 0.011048543456039806,\n",
      "                      '111111011': 0.02209708691207961,\n",
      "                      '111111101': 0.015625},\n",
      "    'eigenvalue': (-1.3980178222655593+0j),\n",
      "    'optimal_parameters': {   ParameterVectorElement(θ[12]): -1.4702306518130106,\n",
      "                              ParameterVectorElement(θ[13]): 1.1013642144225715,\n",
      "                              ParameterVectorElement(θ[14]): -0.0313552145205504,\n",
      "                              ParameterVectorElement(θ[15]): 0.7705700955144723,\n",
      "                              ParameterVectorElement(θ[16]): 0.18505081170538862,\n",
      "                              ParameterVectorElement(θ[11]): 0.2516332046098113,\n",
      "                              ParameterVectorElement(θ[17]): 0.5496347144255032,\n",
      "                              ParameterVectorElement(θ[5]): 3.922465032736834,\n",
      "                              ParameterVectorElement(θ[7]): -0.048782814078807774,\n",
      "                              ParameterVectorElement(θ[6]): -0.9943385087310626,\n",
      "                              ParameterVectorElement(θ[8]): 1.190948991529499,\n",
      "                              ParameterVectorElement(θ[9]): 0.31372849859857715,\n",
      "                              ParameterVectorElement(θ[10]): -1.0964143534287234,\n",
      "                              ParameterVectorElement(θ[1]): 1.0035801367262132,\n",
      "                              ParameterVectorElement(θ[0]): 2.555308432670651,\n",
      "                              ParameterVectorElement(θ[2]): -0.1383064560367305,\n",
      "                              ParameterVectorElement(θ[4]): 0.5595204307110316,\n",
      "                              ParameterVectorElement(θ[3]): -0.853941001354921},\n",
      "    'optimal_point': array([ 2.55530843,  1.00358014, -0.13830646, -0.853941  ,  0.55952043,\n",
      "        3.92246503, -0.99433851, -0.04878281,  1.19094899,  0.3137285 ,\n",
      "       -1.09641435,  0.2516332 , -1.47023065,  1.10136421, -0.03135521,\n",
      "        0.7705701 ,  0.18505081,  0.54963471]),\n",
      "    'optimal_value': -1.3980178222655593,\n",
      "    'optimizer_evals': None,\n",
      "    'optimizer_time': 30.4559543132782}\n"
     ]
    }
   ],
   "source": [
    "from qiskit.circuit.library import RealAmplitudes\n",
    "from qiskit.algorithms.optimizers import COBYLA\n",
    "from qiskit.algorithms import NumPyMinimumEigensolver, VQE\n",
    "from qiskit.opflow import PauliExpectation, CVaRExpectation\n",
    "from qiskit import execute, Aer\n",
    "\n",
    "# set classical optimizer\n",
    "optimizer = COBYLA(maxiter=50)\n",
    "\n",
    "# set variational ansatz\n",
    "ansatz = RealAmplitudes(reps=1)\n",
    "\n",
    "# set the backend\n",
    "backend_name = \"aer_simulator\"\n",
    "backend = QuantumInstance(\n",
    "    Aer.get_backend(backend_name),\n",
    "    shots=8192,\n",
    "    seed_transpiler=algorithm_globals.random_seed,\n",
    "    seed_simulator=algorithm_globals.random_seed,\n",
    ")\n",
    "\n",
    "counts = []\n",
    "values = []\n",
    "\n",
    "\n",
    "def store_intermediate_result(eval_count, parameters, mean, std):\n",
    "    counts.append(eval_count)\n",
    "    values.append(mean)\n",
    "\n",
    "\n",
    "# initialize CVaR_alpha objective with alpha = 0.1\n",
    "cvar_exp = CVaRExpectation(0.1, PauliExpectation())\n",
    "\n",
    "# initialize VQE using CVaR\n",
    "vqe = VQE(\n",
    "    expectation=cvar_exp,\n",
    "    optimizer=optimizer,\n",
    "    ansatz=ansatz,\n",
    "    quantum_instance=backend,\n",
    "    callback=store_intermediate_result,\n",
    ")\n",
    "\n",
    "raw_result = vqe.compute_minimum_eigenvalue(qubit_op)\n",
    "print(raw_result)"
   ]
  },
  {
   "cell_type": "code",
   "execution_count": 10,
   "id": "7d51e6b4",
   "metadata": {
    "execution": {
     "iopub.execute_input": "2022-08-25T20:19:26.792342Z",
     "iopub.status.busy": "2022-08-25T20:19:26.791756Z",
     "iopub.status.idle": "2022-08-25T20:19:27.640632Z",
     "shell.execute_reply": "2022-08-25T20:19:27.639776Z"
    }
   },
   "outputs": [
    {
     "data": {
      "image/png": "[encoded data removed]",
      "text/plain": [
       "<Figure size 640x480 with 2 Axes>"
      ]
     },
     "metadata": {},
     "output_type": "display_data"
    }
   ],
   "source": [
    "import matplotlib.pyplot as plt\n",
    "\n",
    "fig = plt.figure()\n",
    "\n",
    "plt.plot(counts, values)\n",
    "plt.ylabel(\"Conformation Energy\")\n",
    "plt.xlabel(\"VQE Iterations\")\n",
    "\n",
    "fig.add_axes([0.44, 0.51, 0.44, 0.32])\n",
    "\n",
    "plt.plot(counts[40:], values[40:])\n",
    "plt.ylabel(\"Conformation Energy\")\n",
    "plt.xlabel(\"VQE Iterations\")\n",
    "plt.show()"
   ]
  },
  {
   "cell_type": "markdown",
   "id": "002b5c74",
   "metadata": {},
   "source": [
    "### Visualizing the answer"
   ]
  },
  {
   "cell_type": "markdown",
   "id": "2e2b6b22",
   "metadata": {},
   "source": [
    "In order to reduce computational costs, we have reduced the problem's qubit operator to the minimum amount of qubits needed to represent the shape of the protein. In order to decode the answer we need to understand how this has been done.\n",
    "* The shape of the protein has been encoded by a sequence of turns , $\\{0,1,2,3\\}$. Each turn represents a different direction in the lattice.\n",
    "* For a main bead of $N_{aminoacids}$ in a lattice, we need $N_{aminoacids}-1$ turns in order to represent its shape. However, the orientation of the protein is not relevant to its energy. Therefore the first two turns of the shape can be set to $[1,0]$ without loss of generality.\n",
    "* If the second bead does not have any side chain, we can also set the $6^{th}$ qubit to $[1]$ without breaking symmetry.\n",
    "* Since the length of the secondary chains is always limited to $1$ we only need one turn to describe the shape of the chain.\n",
    "\n",
    "The total amount of qubits we need to represent the shape of the protein will be $2(N_{aminoacids}-3)$ if there is a secondary chain coming out of the second bead or $2(N_{aminoacids}-3) - 1$, otherwise. All the other qubits will remain unused during the optimization process. See:"
   ]
  },
  {
   "cell_type": "code",
   "execution_count": 11,
   "id": "49a65992",
   "metadata": {
    "execution": {
     "iopub.execute_input": "2022-08-25T20:19:27.644736Z",
     "iopub.status.busy": "2022-08-25T20:19:27.644108Z",
     "iopub.status.idle": "2022-08-25T20:19:27.654115Z",
     "shell.execute_reply": "2022-08-25T20:19:27.653437Z"
    }
   },
   "outputs": [
    {
     "name": "stdout",
     "output_type": "stream",
     "text": [
      "The bitstring representing the shape of the protein during optimization is:  101100011\n",
      "The expanded expression is: 1______0_____________________________________________________________________________________________________________________________110001_1____\n"
     ]
    }
   ],
   "source": [
    "result = protein_folding_problem.interpret(raw_result=raw_result)\n",
    "print(\n",
    "    \"The bitstring representing the shape of the protein during optimization is: \",\n",
    "    result.turn_sequence,\n",
    ")\n",
    "print(\"The expanded expression is:\", result.get_result_binary_vector())"
   ]
  },
  {
   "cell_type": "markdown",
   "id": "19578a0c",
   "metadata": {},
   "source": [
    "Now that we know which qubits encode which information, we can decode the bitstring into the explicit turns that form the shape of the protein."
   ]
  },
  {
   "cell_type": "code",
   "execution_count": 12,
   "id": "f377810d",
   "metadata": {
    "execution": {
     "iopub.execute_input": "2022-08-25T20:19:27.657286Z",
     "iopub.status.busy": "2022-08-25T20:19:27.656847Z",
     "iopub.status.idle": "2022-08-25T20:19:27.660577Z",
     "shell.execute_reply": "2022-08-25T20:19:27.659915Z"
    }
   },
   "outputs": [
    {
     "name": "stdout",
     "output_type": "stream",
     "text": [
      "The folded protein's main sequence of turns is: [1, 0, 3, 2, 0, 3]\n",
      "and the side turn sequences are: [None, None, None, None, None, None, None]\n"
     ]
    }
   ],
   "source": [
    "print(\n",
    "    f\"The folded protein's main sequence of turns is: {result.protein_shape_decoder.main_turns}\"\n",
    ")\n",
    "print(f\"and the side turn sequences are: {result.protein_shape_decoder.side_turns}\")"
   ]
  },
  {
   "cell_type": "markdown",
   "id": "de27cfcd",
   "metadata": {},
   "source": [
    "From this sequence of turns we can get the cartesian coordinates of each of the aminoacids of the protein."
   ]
  },
  {
   "cell_type": "code",
   "execution_count": 13,
   "id": "39402e34",
   "metadata": {
    "execution": {
     "iopub.execute_input": "2022-08-25T20:19:27.664421Z",
     "iopub.status.busy": "2022-08-25T20:19:27.664013Z",
     "iopub.status.idle": "2022-08-25T20:19:27.667889Z",
     "shell.execute_reply": "2022-08-25T20:19:27.667217Z"
    }
   },
   "outputs": [
    {
     "name": "stdout",
     "output_type": "stream",
     "text": [
      "[['A' '0.0' '0.0' '0.0']\n",
      " ['P' '0.5773502691896258' '0.5773502691896258' '-0.5773502691896258']\n",
      " ['R' '1.1547005383792517' '0.0' '-1.1547005383792517']\n",
      " ['L' '1.7320508075688776' '-0.5773502691896258' '-0.5773502691896258']\n",
      " ['R' '2.3094010767585034' '0.0' '0.0']\n",
      " ['F' '1.7320508075688776' '0.5773502691896258' '0.5773502691896258']\n",
      " ['Y' '1.154700538379252' '1.1547005383792517' '0.0']]\n"
     ]
    }
   ],
   "source": [
    "print(result.protein_shape_file_gen.get_xyz_data())"
   ]
  },
  {
   "cell_type": "markdown",
   "id": "d54c6272",
   "metadata": {},
   "source": [
    "And finally, we can also plot the structure of the protein in 3D. Note that when rendered with the proper backend this plot can be interactively rotated."
   ]
  },
  {
   "cell_type": "code",
   "execution_count": 14,
   "id": "a40f8c41",
   "metadata": {
    "execution": {
     "iopub.execute_input": "2022-08-25T20:19:27.671808Z",
     "iopub.status.busy": "2022-08-25T20:19:27.671280Z",
     "iopub.status.idle": "2022-08-25T20:19:27.780312Z",
     "shell.execute_reply": "2022-08-25T20:19:27.779646Z"
    }
   },
   "outputs": [
    {
     "data": {
      "image/png": "[encoded data removed]",
      "text/plain": [
       "<Figure size 640x480 with 1 Axes>"
      ]
     },
     "metadata": {},
     "output_type": "display_data"
    }
   ],
   "source": [
    "fig = result.get_figure(title=\"Protein Structure\", ticks=False, grid=True)\n",
    "fig.get_axes()[0].view_init(10, 70)"
   ]
  },
  {
   "cell_type": "markdown",
   "id": "0675bdcc",
   "metadata": {},
   "source": [
    "And here is an example with side chains."
   ]
  },
  {
   "cell_type": "code",
   "execution_count": 15,
   "id": "105a473a",
   "metadata": {
    "execution": {
     "iopub.execute_input": "2022-08-25T20:19:27.784060Z",
     "iopub.status.busy": "2022-08-25T20:19:27.783600Z",
     "iopub.status.idle": "2022-08-25T20:19:32.712857Z",
     "shell.execute_reply": "2022-08-25T20:19:32.712159Z"
    }
   },
   "outputs": [],
   "source": [
    "peptide = Peptide(\"APRLR\", [\"\", \"\", \"F\", \"Y\", \"\"])\n",
    "protein_folding_problem = ProteinFoldingProblem(peptide, mj_interaction, penalty_terms)\n",
    "qubit_op = protein_folding_problem.qubit_op()\n",
    "raw_result = vqe.compute_minimum_eigenvalue(qubit_op)\n",
    "result_2 = protein_folding_problem.interpret(raw_result=raw_result)"
   ]
  },
  {
   "cell_type": "code",
   "execution_count": 16,
   "id": "4b0aa85e",
   "metadata": {
    "execution": {
     "iopub.execute_input": "2022-08-25T20:19:32.716725Z",
     "iopub.status.busy": "2022-08-25T20:19:32.716476Z",
     "iopub.status.idle": "2022-08-25T20:19:32.858131Z",
     "shell.execute_reply": "2022-08-25T20:19:32.857402Z"
    }
   },
   "outputs": [
    {
     "data": {
      "image/png": "[encoded data removed]",
      "text/plain": [
       "<Figure size 640x480 with 1 Axes>"
      ]
     },
     "metadata": {},
     "output_type": "display_data"
    }
   ],
   "source": [
    "fig = result_2.get_figure(title=\"Protein Structure\", ticks=False, grid=True)\n",
    "fig.get_axes()[0].view_init(10, 60)"
   ]
  },
  {
   "cell_type": "markdown",
   "id": "3000495a",
   "metadata": {},
   "source": [
    "### References"
   ]
  },
  {
   "cell_type": "markdown",
   "id": "c835b123",
   "metadata": {},
   "source": [
    "<font size='2'>[1] https://en.wikipedia.org/wiki/Levinthal%27s_paradox </font>\n",
    "\n",
    "<font size='2'>[2] A.Robert, P.Barkoutsos, S.Woerner and I.Tavernelli, Resource-efficient quantum algorithm for protein folding, NPJ Quantum Information, 2021, https://doi.org/10.1038/s41534-021-00368-4 </font>\n",
    "\n",
    "<font size=\"2\">[3] IUPAC–IUB Commission on Biochemical Nomenclature (1972). \"A one-letter notation for aminoacid sequences\". Pure and Applied Chemistry. 31 (4): 641–645. doi:10.1351/pac197231040639. PMID 5080161.</font> <br>\n",
    "\n",
    "<font size=\"2\">[4] https://en.wikipedia.org/wiki/Amino_acid</font>\n",
    "\n",
    "<font size=\"2\"> [5] S. Miyazawa and R. L.Jernigan, Residue – Residue Potentials with a Favorable Contact Pair Term and an Unfavorable High Packing Density Term for Simulation and Threading, J. Mol. Biol.256, 623–644, 1996, Table 3, https://doi.org/10.1006/jmbi.1996.0114 </font>\n",
    "\n",
    "<font size=\"2\"> [6] P.Barkoutsos, G. Nannichini, A.Robert, I.Tavernelli, S.Woerner, Improving Variational Quantum Optimization using CVaR, Quantum 4, 256, 2020, https://doi.org/10.22331/q-2020-04-20-256  </font>"
   ]
  },
  {
   "cell_type": "code",
   "execution_count": 17,
   "id": "8f7e04a1",
   "metadata": {
    "execution": {
     "iopub.execute_input": "2022-08-25T20:19:32.861726Z",
     "iopub.status.busy": "2022-08-25T20:19:32.861486Z",
     "iopub.status.idle": "2022-08-25T20:19:33.002610Z",
     "shell.execute_reply": "2022-08-25T20:19:33.001863Z"
    }
   },
   "outputs": [
    {
     "data": {
      "text/html": [
       "<h3>Version Information</h3><table><tr><th>Qiskit Software</th><th>Version</th></tr><tr><td><code>qiskit-terra</code></td><td>0.21.0</td></tr><tr><td><code>qiskit-aer</code></td><td>0.10.4</td></tr><tr><td><code>qiskit-ibmq-provider</code></td><td>0.19.2</td></tr><tr><td><code>qiskit-nature</code></td><td>0.4.2</td></tr><tr><th>System information</th></tr><tr><td>Python version</td><td>3.9.13</td></tr><tr><td>Python compiler</td><td>GCC 9.4.0</td></tr><tr><td>Python build</td><td>main, Jul 22 2022 09:23:34</td></tr><tr><td>OS</td><td>Linux</td></tr><tr><td>CPUs</td><td>2</td></tr><tr><td>Memory (Gb)</td><td>6.781246185302734</td></tr><tr><td colspan='2'>Thu Aug 25 20:19:32 2022 UTC</td></tr></table>"
      ],
      "text/plain": [
       "<IPython.core.display.HTML object>"
      ]
     },
     "metadata": {},
     "output_type": "display_data"
    },
    {
     "data": {
      "text/html": [
       "<div style='width: 100%; background-color:#d5d9e0;padding-left: 10px; padding-bottom: 10px; padding-right: 10px; padding-top: 5px'><h3>This code is a part of Qiskit</h3><p>&copy; Copyright IBM 2017, 2022.</p><p>This code is licensed under the Apache License, Version 2.0. You may<br>obtain a copy of this license in the LICENSE.txt file in the root directory<br> of this source tree or at http://www.apache.org/licenses/LICENSE-2.0.<p>Any modifications or derivative works of this code must retain this<br>copyright notice, and modified files need to carry a notice indicating<br>that they have been altered from the originals.</p></div>"
      ],
      "text/plain": [
       "<IPython.core.display.HTML object>"
      ]
     },
     "metadata": {},
     "output_type": "display_data"
    }
   ],
   "source": [
    "import qiskit.tools.jupyter\n",
    "\n",
    "%qiskit_version_table\n",
    "%qiskit_copyright"
   ]
  }
 ],
 "metadata": {
  "interpreter": {
   "hash": "94561c5514d6ed309ef55bb744ee9b24e97b38d0ec7b9028efe679e2a743ca0e"
  },
  "kernelspec": {
   "display_name": "Python 3 (ipykernel)",
   "language": "python",
   "name": "python3"
  },
  "language_info": {
   "codemirror_mode": {
    "name": "ipython",
    "version": 3
   },
   "file_extension": ".py",
   "mimetype": "text/x-python",
   "name": "python",
   "nbconvert_exporter": "python",
   "pygments_lexer": "ipython3",
   "version": "3.9.13"
  },
  "widgets": {
   "application/vnd.jupyter.widget-state+json": {
    "state": {
     "01d0de65d9ec4ac995db89d3f09c8dc6": {
      "model_module": "@jupyter-widgets/base",
      "model_module_version": "2.0.0",
      "model_name": "LayoutModel",
      "state": {
       "_model_module": "@jupyter-widgets/base",
       "_model_module_version": "2.0.0",
       "_model_name": "LayoutModel",
       "_view_count": null,
       "_view_module": "@jupyter-widgets/base",
       "_view_module_version": "2.0.0",
       "_view_name": "LayoutView",
       "align_content": null,
       "align_items": null,
       "align_self": null,
       "border_bottom": null,
       "border_left": null,
       "border_right": null,
       "border_top": null,
       "bottom": null,
       "display": null,
       "flex": null,
       "flex_flow": null,
       "grid_area": null,
       "grid_auto_columns": null,
       "grid_auto_flow": null,
       "grid_auto_rows": null,
       "grid_column": null,
       "grid_gap": null,
       "grid_row": null,
       "grid_template_areas": null,
       "grid_template_columns": null,
       "grid_template_rows": null,
       "height": null,
       "justify_content": null,
       "justify_items": null,
       "left": null,
       "margin": "0px 0px 10px 0px",
       "max_height": null,
       "max_width": null,
       "min_height": null,
       "min_width": null,
       "object_fit": null,
       "object_position": null,
       "order": null,
       "overflow": null,
       "padding": null,
       "right": null,
       "top": null,
       "visibility": null,
       "width": null
      }
     },
     "031fa82989e042ea9ce65907909d249e": {
      "model_module": "@jupyter-widgets/base",
      "model_module_version": "2.0.0",
      "model_name": "LayoutModel",
      "state": {
       "_model_module": "@jupyter-widgets/base",
       "_model_module_version": "2.0.0",
       "_model_name": "LayoutModel",
       "_view_count": null,
       "_view_module": "@jupyter-widgets/base",
       "_view_module_version": "2.0.0",
       "_view_name": "LayoutView",
       "align_content": null,
       "align_items": null,
       "align_self": null,
       "border_bottom": null,
       "border_left": null,
       "border_right": null,
       "border_top": null,
       "bottom": null,
       "display": null,
       "flex": null,
       "flex_flow": null,
       "grid_area": null,
       "grid_auto_columns": null,
       "grid_auto_flow": null,
       "grid_auto_rows": null,
       "grid_column": null,
       "grid_gap": null,
       "grid_row": null,
       "grid_template_areas": null,
       "grid_template_columns": null,
       "grid_template_rows": null,
       "height": null,
       "justify_content": null,
       "justify_items": null,
       "left": null,
       "margin": null,
       "max_height": null,
       "max_width": null,
       "min_height": null,
       "min_width": null,
       "object_fit": null,
       "object_position": null,
       "order": null,
       "overflow": null,
       "padding": null,
       "right": null,
       "top": null,
       "visibility": null,
       "width": "145px"
      }
     },
     "1ca86628837f46279680e1c4a3e1d46f": {
      "model_module": "@jupyter-widgets/controls",
      "model_module_version": "2.0.0",
      "model_name": "ButtonStyleModel",
      "state": {
       "_model_module": "@jupyter-widgets/controls",
       "_model_module_version": "2.0.0",
       "_model_name": "ButtonStyleModel",
       "_view_count": null,
       "_view_module": "@jupyter-widgets/base",
       "_view_module_version": "2.0.0",
       "_view_name": "StyleView",
       "button_color": null,
       "font_family": null,
       "font_size": null,
       "font_style": null,
       "font_variant": null,
       "font_weight": null,
       "text_color": null,
       "text_decoration": null
      }
     },
     "29689ffe74534868a4c51e085870d243": {
      "model_module": "@jupyter-widgets/base",
      "model_module_version": "2.0.0",
      "model_name": "LayoutModel",
      "state": {
       "_model_module": "@jupyter-widgets/base",
       "_model_module_version": "2.0.0",
       "_model_name": "LayoutModel",
       "_view_count": null,
       "_view_module": "@jupyter-widgets/base",
       "_view_module_version": "2.0.0",
       "_view_name": "LayoutView",
       "align_content": null,
       "align_items": null,
       "align_self": null,
       "border_bottom": null,
       "border_left": null,
       "border_right": null,
       "border_top": null,
       "bottom": null,
       "display": null,
       "flex": null,
       "flex_flow": null,
       "grid_area": "right",
       "grid_auto_columns": null,
       "grid_auto_flow": null,
       "grid_auto_rows": null,
       "grid_column": null,
       "grid_gap": null,
       "grid_row": null,
       "grid_template_areas": null,
       "grid_template_columns": null,
       "grid_template_rows": null,
       "height": null,
       "justify_content": null,
       "justify_items": null,
       "left": null,
       "margin": null,
       "max_height": null,
       "max_width": null,
       "min_height": null,
       "min_width": null,
       "object_fit": null,
       "object_position": null,
       "order": null,
       "overflow": null,
       "padding": "0px 0px 0px 0px",
       "right": null,
       "top": null,
       "visibility": null,
       "width": "70px"
      }
     },
     "2fd0f871a5854663b32c6f5f3ce5e397": {
      "model_module": "@jupyter-widgets/base",
      "model_module_version": "2.0.0",
      "model_name": "LayoutModel",
      "state": {
       "_model_module": "@jupyter-widgets/base",
       "_model_module_version": "2.0.0",
       "_model_name": "LayoutModel",
       "_view_count": null,
       "_view_module": "@jupyter-widgets/base",
       "_view_module_version": "2.0.0",
       "_view_name": "LayoutView",
       "align_content": null,
       "align_items": null,
       "align_self": null,
       "border_bottom": null,
       "border_left": null,
       "border_right": null,
       "border_top": null,
       "bottom": null,
       "display": null,
       "flex": null,
       "flex_flow": null,
       "grid_area": null,
       "grid_auto_columns": null,
       "grid_auto_flow": null,
       "grid_auto_rows": null,
       "grid_column": null,
       "grid_gap": null,
       "grid_row": null,
       "grid_template_areas": null,
       "grid_template_columns": null,
       "grid_template_rows": null,
       "height": null,
       "justify_content": null,
       "justify_items": null,
       "left": null,
       "margin": null,
       "max_height": null,
       "max_width": null,
       "min_height": null,
       "min_width": null,
       "object_fit": null,
       "object_position": null,
       "order": null,
       "overflow": null,
       "padding": null,
       "right": null,
       "top": null,
       "visibility": null,
       "width": null
      }
     },
     "33b75d7c794e4cb498b0461ee864787a": {
      "model_module": "@jupyter-widgets/controls",
      "model_module_version": "2.0.0",
      "model_name": "ButtonModel",
      "state": {
       "_dom_classes": [],
       "_model_module": "@jupyter-widgets/controls",
       "_model_module_version": "2.0.0",
       "_model_name": "ButtonModel",
       "_view_count": null,
       "_view_module": "@jupyter-widgets/controls",
       "_view_module_version": "2.0.0",
       "_view_name": "ButtonView",
       "button_style": "primary",
       "description": "Clear",
       "disabled": false,
       "icon": "",
       "layout": "IPY_MODEL_29689ffe74534868a4c51e085870d243",
       "style": "IPY_MODEL_1ca86628837f46279680e1c4a3e1d46f",
       "tabbable": null,
       "tooltip": null
      }
     },
     "37f7f7ad8c65448d8204ed6937bf58f0": {
      "model_module": "@jupyter-widgets/controls",
      "model_module_version": "2.0.0",
      "model_name": "HTMLStyleModel",
      "state": {
       "_model_module": "@jupyter-widgets/controls",
       "_model_module_version": "2.0.0",
       "_model_name": "HTMLStyleModel",
       "_view_count": null,
       "_view_module": "@jupyter-widgets/base",
       "_view_module_version": "2.0.0",
       "_view_name": "StyleView",
       "background": null,
       "description_width": "",
       "font_size": null,
       "text_color": null
      }
     },
     "40b990019bd34bceb33e95fcfe5ba6db": {
      "model_module": "@jupyter-widgets/controls",
      "model_module_version": "2.0.0",
      "model_name": "HTMLModel",
      "state": {
       "_dom_classes": [],
       "_model_module": "@jupyter-widgets/controls",
       "_model_module_version": "2.0.0",
       "_model_name": "HTMLModel",
       "_view_count": null,
       "_view_module": "@jupyter-widgets/controls",
       "_view_module_version": "2.0.0",
       "_view_name": "HTMLView",
       "description": "",
       "description_allow_html": false,
       "layout": "IPY_MODEL_a120b537309d403a8d68b43dee8f6006",
       "placeholder": "​",
       "style": "IPY_MODEL_8cea405f3ee544318ca1e9cd0352f8be",
       "tabbable": null,
       "tooltip": null,
       "value": "<h5>Job ID</h5>"
      }
     },
     "57b6b87e22ac473aa39957cb0653e0d4": {
      "model_module": "@jupyter-widgets/base",
      "model_module_version": "2.0.0",
      "model_name": "LayoutModel",
      "state": {
       "_model_module": "@jupyter-widgets/base",
       "_model_module_version": "2.0.0",
       "_model_name": "LayoutModel",
       "_view_count": null,
       "_view_module": "@jupyter-widgets/base",
       "_view_module_version": "2.0.0",
       "_view_name": "LayoutView",
       "align_content": null,
       "align_items": null,
       "align_self": null,
       "border_bottom": null,
       "border_left": null,
       "border_right": null,
       "border_top": null,
       "bottom": null,
       "display": null,
       "flex": null,
       "flex_flow": null,
       "grid_area": null,
       "grid_auto_columns": null,
       "grid_auto_flow": null,
       "grid_auto_rows": null,
       "grid_column": null,
       "grid_gap": null,
       "grid_row": null,
       "grid_template_areas": null,
       "grid_template_columns": null,
       "grid_template_rows": null,
       "height": null,
       "justify_content": null,
       "justify_items": null,
       "left": null,
       "margin": null,
       "max_height": null,
       "max_width": null,
       "min_height": null,
       "min_width": null,
       "object_fit": null,
       "object_position": null,
       "order": null,
       "overflow": null,
       "padding": null,
       "right": null,
       "top": null,
       "visibility": null,
       "width": "95px"
      }
     },
     "664f619d7cf547d2ab7f77de410840e5": {
      "model_module": "@jupyter-widgets/controls",
      "model_module_version": "2.0.0",
      "model_name": "HTMLModel",
      "state": {
       "_dom_classes": [],
       "_model_module": "@jupyter-widgets/controls",
       "_model_module_version": "2.0.0",
       "_model_name": "HTMLModel",
       "_view_count": null,
       "_view_module": "@jupyter-widgets/controls",
       "_view_module_version": "2.0.0",
       "_view_name": "HTMLView",
       "description": "",
       "description_allow_html": false,
       "layout": "IPY_MODEL_031fa82989e042ea9ce65907909d249e",
       "placeholder": "​",
       "style": "IPY_MODEL_92bf6647aaea41f4a14331a1f4ef6ef0",
       "tabbable": null,
       "tooltip": null,
       "value": "<h5>Backend</h5>"
      }
     },
     "6eb7301e8bda45d1a5a6fd4277b022af": {
      "model_module": "@jupyter-widgets/controls",
      "model_module_version": "2.0.0",
      "model_name": "HBoxModel",
      "state": {
       "_dom_classes": [],
       "_model_module": "@jupyter-widgets/controls",
       "_model_module_version": "2.0.0",
       "_model_name": "HBoxModel",
       "_view_count": null,
       "_view_module": "@jupyter-widgets/controls",
       "_view_module_version": "2.0.0",
       "_view_name": "HBoxView",
       "box_style": "",
       "children": [
        "IPY_MODEL_40b990019bd34bceb33e95fcfe5ba6db",
        "IPY_MODEL_664f619d7cf547d2ab7f77de410840e5",
        "IPY_MODEL_f2bf722b4cda453e8db1b7985c47c06a",
        "IPY_MODEL_c441187b045446548337ab1b026ed6cb",
        "IPY_MODEL_da52fc4b8b9c455081ba0bd6f5c3a309"
       ],
       "layout": "IPY_MODEL_c64b3e00f28744ccb235fe1278b3b37e",
       "tabbable": null,
       "tooltip": null
      }
     },
     "7ae24e7ea83844828918dd70a6ba169f": {
      "model_module": "@jupyter-widgets/controls",
      "model_module_version": "2.0.0",
      "model_name": "HTMLStyleModel",
      "state": {
       "_model_module": "@jupyter-widgets/controls",
       "_model_module_version": "2.0.0",
       "_model_name": "HTMLStyleModel",
       "_view_count": null,
       "_view_module": "@jupyter-widgets/base",
       "_view_module_version": "2.0.0",
       "_view_name": "StyleView",
       "background": null,
       "description_width": "",
       "font_size": null,
       "text_color": null
      }
     },
     "7b5957f1226d4b6089919c3fa89bf4e9": {
      "model_module": "@jupyter-widgets/controls",
      "model_module_version": "2.0.0",
      "model_name": "HTMLStyleModel",
      "state": {
       "_model_module": "@jupyter-widgets/controls",
       "_model_module_version": "2.0.0",
       "_model_name": "HTMLStyleModel",
       "_view_count": null,
       "_view_module": "@jupyter-widgets/base",
       "_view_module_version": "2.0.0",
       "_view_name": "StyleView",
       "background": null,
       "description_width": "",
       "font_size": null,
       "text_color": null
      }
     },
     "8cea405f3ee544318ca1e9cd0352f8be": {
      "model_module": "@jupyter-widgets/controls",
      "model_module_version": "2.0.0",
      "model_name": "HTMLStyleModel",
      "state": {
       "_model_module": "@jupyter-widgets/controls",
       "_model_module_version": "2.0.0",
       "_model_name": "HTMLStyleModel",
       "_view_count": null,
       "_view_module": "@jupyter-widgets/base",
       "_view_module_version": "2.0.0",
       "_view_name": "StyleView",
       "background": null,
       "description_width": "",
       "font_size": null,
       "text_color": null
      }
     },
     "92bf6647aaea41f4a14331a1f4ef6ef0": {
      "model_module": "@jupyter-widgets/controls",
      "model_module_version": "2.0.0",
      "model_name": "HTMLStyleModel",
      "state": {
       "_model_module": "@jupyter-widgets/controls",
       "_model_module_version": "2.0.0",
       "_model_name": "HTMLStyleModel",
       "_view_count": null,
       "_view_module": "@jupyter-widgets/base",
       "_view_module_version": "2.0.0",
       "_view_name": "StyleView",
       "background": null,
       "description_width": "",
       "font_size": null,
       "text_color": null
      }
     },
     "9b8ef39a1c754236902944f7b1bbfa35": {
      "model_module": "@jupyter-widgets/controls",
      "model_module_version": "2.0.0",
      "model_name": "HTMLStyleModel",
      "state": {
       "_model_module": "@jupyter-widgets/controls",
       "_model_module_version": "2.0.0",
       "_model_name": "HTMLStyleModel",
       "_view_count": null,
       "_view_module": "@jupyter-widgets/base",
       "_view_module_version": "2.0.0",
       "_view_name": "StyleView",
       "background": null,
       "description_width": "",
       "font_size": null,
       "text_color": null
      }
     },
     "a120b537309d403a8d68b43dee8f6006": {
      "model_module": "@jupyter-widgets/base",
      "model_module_version": "2.0.0",
      "model_name": "LayoutModel",
      "state": {
       "_model_module": "@jupyter-widgets/base",
       "_model_module_version": "2.0.0",
       "_model_name": "LayoutModel",
       "_view_count": null,
       "_view_module": "@jupyter-widgets/base",
       "_view_module_version": "2.0.0",
       "_view_name": "LayoutView",
       "align_content": null,
       "align_items": null,
       "align_self": null,
       "border_bottom": null,
       "border_left": null,
       "border_right": null,
       "border_top": null,
       "bottom": null,
       "display": null,
       "flex": null,
       "flex_flow": null,
       "grid_area": null,
       "grid_auto_columns": null,
       "grid_auto_flow": null,
       "grid_auto_rows": null,
       "grid_column": null,
       "grid_gap": null,
       "grid_row": null,
       "grid_template_areas": null,
       "grid_template_columns": null,
       "grid_template_rows": null,
       "height": null,
       "justify_content": null,
       "justify_items": null,
       "left": null,
       "margin": null,
       "max_height": null,
       "max_width": null,
       "min_height": null,
       "min_width": null,
       "object_fit": null,
       "object_position": null,
       "order": null,
       "overflow": null,
       "padding": null,
       "right": null,
       "top": null,
       "visibility": null,
       "width": "190px"
      }
     },
     "a39264a209a74e2aa80a79554d9b3f86": {
      "model_module": "@jupyter-widgets/base",
      "model_module_version": "2.0.0",
      "model_name": "LayoutModel",
      "state": {
       "_model_module": "@jupyter-widgets/base",
       "_model_module_version": "2.0.0",
       "_model_name": "LayoutModel",
       "_view_count": null,
       "_view_module": "@jupyter-widgets/base",
       "_view_module_version": "2.0.0",
       "_view_name": "LayoutView",
       "align_content": null,
       "align_items": null,
       "align_self": null,
       "border_bottom": null,
       "border_left": null,
       "border_right": null,
       "border_top": null,
       "bottom": null,
       "display": null,
       "flex": null,
       "flex_flow": null,
       "grid_area": null,
       "grid_auto_columns": null,
       "grid_auto_flow": null,
       "grid_auto_rows": null,
       "grid_column": null,
       "grid_gap": null,
       "grid_row": null,
       "grid_template_areas": null,
       "grid_template_columns": null,
       "grid_template_rows": null,
       "height": null,
       "justify_content": null,
       "justify_items": null,
       "left": null,
       "margin": null,
       "max_height": null,
       "max_width": null,
       "min_height": null,
       "min_width": null,
       "object_fit": null,
       "object_position": null,
       "order": null,
       "overflow": null,
       "padding": null,
       "right": null,
       "top": null,
       "visibility": null,
       "width": "70px"
      }
     },
     "ba5649e1f3ca40089b8f3044f9499215": {
      "model_module": "@jupyter-widgets/controls",
      "model_module_version": "2.0.0",
      "model_name": "GridBoxModel",
      "state": {
       "_dom_classes": [],
       "_model_module": "@jupyter-widgets/controls",
       "_model_module_version": "2.0.0",
       "_model_name": "GridBoxModel",
       "_view_count": null,
       "_view_module": "@jupyter-widgets/controls",
       "_view_module_version": "2.0.0",
       "_view_name": "GridBoxView",
       "box_style": "",
       "children": [
        "IPY_MODEL_33b75d7c794e4cb498b0461ee864787a"
       ],
       "layout": "IPY_MODEL_f08f937daf834bc8b14b41d38c538778",
       "tabbable": null,
       "tooltip": null
      }
     },
     "bdcb467b26654767af8efab237ad7267": {
      "model_module": "@jupyter-widgets/controls",
      "model_module_version": "2.0.0",
      "model_name": "HTMLModel",
      "state": {
       "_dom_classes": [],
       "_model_module": "@jupyter-widgets/controls",
       "_model_module_version": "2.0.0",
       "_model_name": "HTMLModel",
       "_view_count": null,
       "_view_module": "@jupyter-widgets/controls",
       "_view_module_version": "2.0.0",
       "_view_name": "HTMLView",
       "description": "",
       "description_allow_html": false,
       "layout": "IPY_MODEL_01d0de65d9ec4ac995db89d3f09c8dc6",
       "placeholder": "​",
       "style": "IPY_MODEL_7ae24e7ea83844828918dd70a6ba169f",
       "tabbable": null,
       "tooltip": null,
       "value": "<p style='font-family: IBM Plex Sans, Arial, Helvetica, sans-serif; font-size: 20px; font-weight: medium;'>Circuit Properties</p>"
      }
     },
     "c441187b045446548337ab1b026ed6cb": {
      "model_module": "@jupyter-widgets/controls",
      "model_module_version": "2.0.0",
      "model_name": "HTMLModel",
      "state": {
       "_dom_classes": [],
       "_model_module": "@jupyter-widgets/controls",
       "_model_module_version": "2.0.0",
       "_model_name": "HTMLModel",
       "_view_count": null,
       "_view_module": "@jupyter-widgets/controls",
       "_view_module_version": "2.0.0",
       "_view_name": "HTMLView",
       "description": "",
       "description_allow_html": false,
       "layout": "IPY_MODEL_a39264a209a74e2aa80a79554d9b3f86",
       "placeholder": "​",
       "style": "IPY_MODEL_9b8ef39a1c754236902944f7b1bbfa35",
       "tabbable": null,
       "tooltip": null,
       "value": "<h5>Queue</h5>"
      }
     },
     "c64b3e00f28744ccb235fe1278b3b37e": {
      "model_module": "@jupyter-widgets/base",
      "model_module_version": "2.0.0",
      "model_name": "LayoutModel",
      "state": {
       "_model_module": "@jupyter-widgets/base",
       "_model_module_version": "2.0.0",
       "_model_name": "LayoutModel",
       "_view_count": null,
       "_view_module": "@jupyter-widgets/base",
       "_view_module_version": "2.0.0",
       "_view_name": "LayoutView",
       "align_content": null,
       "align_items": null,
       "align_self": null,
       "border_bottom": null,
       "border_left": null,
       "border_right": null,
       "border_top": null,
       "bottom": null,
       "display": null,
       "flex": null,
       "flex_flow": null,
       "grid_area": null,
       "grid_auto_columns": null,
       "grid_auto_flow": null,
       "grid_auto_rows": null,
       "grid_column": null,
       "grid_gap": null,
       "grid_row": null,
       "grid_template_areas": null,
       "grid_template_columns": null,
       "grid_template_rows": null,
       "height": null,
       "justify_content": null,
       "justify_items": null,
       "left": null,
       "margin": "0px 0px 0px 37px",
       "max_height": null,
       "max_width": null,
       "min_height": null,
       "min_width": null,
       "object_fit": null,
       "object_position": null,
       "order": null,
       "overflow": null,
       "padding": null,
       "right": null,
       "top": null,
       "visibility": null,
       "width": "600px"
      }
     },
     "da52fc4b8b9c455081ba0bd6f5c3a309": {
      "model_module": "@jupyter-widgets/controls",
      "model_module_version": "2.0.0",
      "model_name": "HTMLModel",
      "state": {
       "_dom_classes": [],
       "_model_module": "@jupyter-widgets/controls",
       "_model_module_version": "2.0.0",
       "_model_name": "HTMLModel",
       "_view_count": null,
       "_view_module": "@jupyter-widgets/controls",
       "_view_module_version": "2.0.0",
       "_view_name": "HTMLView",
       "description": "",
       "description_allow_html": false,
       "layout": "IPY_MODEL_2fd0f871a5854663b32c6f5f3ce5e397",
       "placeholder": "​",
       "style": "IPY_MODEL_7b5957f1226d4b6089919c3fa89bf4e9",
       "tabbable": null,
       "tooltip": null,
       "value": "<h5>Message</h5>"
      }
     },
     "f08f937daf834bc8b14b41d38c538778": {
      "model_module": "@jupyter-widgets/base",
      "model_module_version": "2.0.0",
      "model_name": "LayoutModel",
      "state": {
       "_model_module": "@jupyter-widgets/base",
       "_model_module_version": "2.0.0",
       "_model_name": "LayoutModel",
       "_view_count": null,
       "_view_module": "@jupyter-widgets/base",
       "_view_module_version": "2.0.0",
       "_view_name": "LayoutView",
       "align_content": null,
       "align_items": null,
       "align_self": null,
       "border_bottom": null,
       "border_left": null,
       "border_right": null,
       "border_top": null,
       "bottom": null,
       "display": null,
       "flex": null,
       "flex_flow": null,
       "grid_area": null,
       "grid_auto_columns": null,
       "grid_auto_flow": null,
       "grid_auto_rows": null,
       "grid_column": null,
       "grid_gap": null,
       "grid_row": null,
       "grid_template_areas": "\n                                       \". . . . right \"\n                                        ",
       "grid_template_columns": "20% 20% 20% 20% 20%",
       "grid_template_rows": null,
       "height": null,
       "justify_content": null,
       "justify_items": null,
       "left": null,
       "margin": null,
       "max_height": null,
       "max_width": null,
       "min_height": null,
       "min_width": null,
       "object_fit": null,
       "object_position": null,
       "order": null,
       "overflow": null,
       "padding": null,
       "right": null,
       "top": null,
       "visibility": null,
       "width": "100%"
      }
     },
     "f2bf722b4cda453e8db1b7985c47c06a": {
      "model_module": "@jupyter-widgets/controls",
      "model_module_version": "2.0.0",
      "model_name": "HTMLModel",
      "state": {
       "_dom_classes": [],
       "_model_module": "@jupyter-widgets/controls",
       "_model_module_version": "2.0.0",
       "_model_name": "HTMLModel",
       "_view_count": null,
       "_view_module": "@jupyter-widgets/controls",
       "_view_module_version": "2.0.0",
       "_view_name": "HTMLView",
       "description": "",
       "description_allow_html": false,
       "layout": "IPY_MODEL_57b6b87e22ac473aa39957cb0653e0d4",
       "placeholder": "​",
       "style": "IPY_MODEL_37f7f7ad8c65448d8204ed6937bf58f0",
       "tabbable": null,
       "tooltip": null,
       "value": "<h5>Status</h5>"
      }
     }
    },
    "version_major": 2,
    "version_minor": 0
   }
  }
 },
 "nbformat": 4,
 "nbformat_minor": 5
}
